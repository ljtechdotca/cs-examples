{
 "cells": [
  {
   "cell_type": "code",
   "execution_count": null,
   "metadata": {
    "dotnet_interactive": {
     "language": "csharp"
    }
   },
   "outputs": [
    {
     "data": {
      "text/html": [
       "<table><thead><tr><th><i>key</i></th><th>value</th></tr></thead><tbody><tr><td>id</td><td>def</td></tr><tr><td>name</td><td>Landon Johnson</td></tr></tbody></table>"
      ]
     },
     "metadata": {},
     "output_type": "display_data"
    }
   ],
   "source": [
    "string[] inputs = new[]{\"/api/users?id=abc\", \"/api/users/find?id=asdg8&name=Landon Johnson\", \"/api?id=def\", \"/api/users\"};\n",
    "\n",
    "var parameters = new Dictionary<string,string>();\n",
    "foreach (string input in inputs) {\n",
    "  if (!input.Contains(\"?\")) continue;\n",
    "  string[] queryString = input.Split(\"?\");\n",
    "  string[] queries = queryString[1].Split(\"&\");\n",
    "  foreach (string query in queries)\n",
    "  {\n",
    "      string[] pair = query.Split(\"=\");\n",
    "      (string key, string value) = (pair[0], pair[1]);\n",
    "      parameters[key] = value;\n",
    "  }\n",
    "}\n",
    "\n",
    "display(parameters);\n"
   ]
  }
 ],
 "metadata": {
  "kernelspec": {
   "display_name": ".NET (C#)",
   "language": "C#",
   "name": ".net-csharp"
  },
  "language_info": {
   "name": "C#"
  }
 },
 "nbformat": 4,
 "nbformat_minor": 2
}
